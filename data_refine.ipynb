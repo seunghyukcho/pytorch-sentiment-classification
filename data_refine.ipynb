{
  "nbformat": 4,
  "nbformat_minor": 0,
  "metadata": {
    "colab": {
      "name": "data_refine.ipynb",
      "provenance": [],
      "collapsed_sections": []
    },
    "kernelspec": {
      "name": "python3",
      "display_name": "Python 3"
    },
    "language_info": {
      "name": "python"
    }
  },
  "cells": [
    {
      "cell_type": "markdown",
      "metadata": {
        "id": "YKF-HaOrsmsr"
      },
      "source": [
        "# 중복값 제거"
      ]
    },
    {
      "cell_type": "code",
      "metadata": {
        "colab": {
          "base_uri": "https://localhost:8080/",
          "height": 415
        },
        "id": "gjs16tkxQEig",
        "outputId": "7e2643ff-4fd0-44fd-a395-f9ed6f94e3f7"
      },
      "source": [
        "import pandas as pd\n",
        "\n",
        "df = pd.read_csv('train-ref12.csv')\n",
        "df = df.drop_duplicates(['Sentence'])\n",
        "df.drop(['Unnamed: 0'], axis=1, inplace=True)\n",
        "df"
      ],
      "execution_count": 109,
      "outputs": [
        {
          "output_type": "execute_result",
          "data": {
            "text/html": [
              "<div>\n",
              "<style scoped>\n",
              "    .dataframe tbody tr th:only-of-type {\n",
              "        vertical-align: middle;\n",
              "    }\n",
              "\n",
              "    .dataframe tbody tr th {\n",
              "        vertical-align: top;\n",
              "    }\n",
              "\n",
              "    .dataframe thead th {\n",
              "        text-align: right;\n",
              "    }\n",
              "</style>\n",
              "<table border=\"1\" class=\"dataframe\">\n",
              "  <thead>\n",
              "    <tr style=\"text-align: right;\">\n",
              "      <th></th>\n",
              "      <th>Id</th>\n",
              "      <th>Category</th>\n",
              "      <th>Sentence</th>\n",
              "    </tr>\n",
              "  </thead>\n",
              "  <tbody>\n",
              "    <tr>\n",
              "      <th>0</th>\n",
              "      <td>11180</td>\n",
              "      <td>2</td>\n",
              "      <td>Although Barbershop boasts some of today's hot...</td>\n",
              "    </tr>\n",
              "    <tr>\n",
              "      <th>1</th>\n",
              "      <td>10282</td>\n",
              "      <td>1</td>\n",
              "      <td>(Johnnie To and Wai Ka Fai are) sure to find a...</td>\n",
              "    </tr>\n",
              "    <tr>\n",
              "      <th>2</th>\n",
              "      <td>1049</td>\n",
              "      <td>1</td>\n",
              "      <td>Naipaul fans may be disappointed.</td>\n",
              "    </tr>\n",
              "    <tr>\n",
              "      <th>3</th>\n",
              "      <td>10985</td>\n",
              "      <td>4</td>\n",
              "      <td>Narc is a no-bull throwback to 1970s action fi...</td>\n",
              "    </tr>\n",
              "    <tr>\n",
              "      <th>4</th>\n",
              "      <td>4235</td>\n",
              "      <td>1</td>\n",
              "      <td>Cinematic pyrotechnics aside, the only thing A...</td>\n",
              "    </tr>\n",
              "    <tr>\n",
              "      <th>...</th>\n",
              "      <td>...</td>\n",
              "      <td>...</td>\n",
              "      <td>...</td>\n",
              "    </tr>\n",
              "    <tr>\n",
              "      <th>9804</th>\n",
              "      <td>835</td>\n",
              "      <td>3</td>\n",
              "      <td>The Lady and the Duke is a smart, romantic dra...</td>\n",
              "    </tr>\n",
              "    <tr>\n",
              "      <th>9806</th>\n",
              "      <td>7443</td>\n",
              "      <td>0</td>\n",
              "      <td>It looks like an action movie, but it's so poo...</td>\n",
              "    </tr>\n",
              "    <tr>\n",
              "      <th>9807</th>\n",
              "      <td>5209</td>\n",
              "      <td>0</td>\n",
              "      <td>Horrible.</td>\n",
              "    </tr>\n",
              "    <tr>\n",
              "      <th>9810</th>\n",
              "      <td>7451</td>\n",
              "      <td>3</td>\n",
              "      <td>It gives devastating testimony to both people'...</td>\n",
              "    </tr>\n",
              "    <tr>\n",
              "      <th>9811</th>\n",
              "      <td>36</td>\n",
              "      <td>4</td>\n",
              "      <td>This is the best Star Trek movie in a long time.</td>\n",
              "    </tr>\n",
              "  </tbody>\n",
              "</table>\n",
              "<p>7655 rows × 3 columns</p>\n",
              "</div>"
            ],
            "text/plain": [
              "         Id  Category                                           Sentence\n",
              "0     11180         2  Although Barbershop boasts some of today's hot...\n",
              "1     10282         1  (Johnnie To and Wai Ka Fai are) sure to find a...\n",
              "2      1049         1                  Naipaul fans may be disappointed.\n",
              "3     10985         4  Narc is a no-bull throwback to 1970s action fi...\n",
              "4      4235         1  Cinematic pyrotechnics aside, the only thing A...\n",
              "...     ...       ...                                                ...\n",
              "9804    835         3  The Lady and the Duke is a smart, romantic dra...\n",
              "9806   7443         0  It looks like an action movie, but it's so poo...\n",
              "9807   5209         0                                          Horrible.\n",
              "9810   7451         3  It gives devastating testimony to both people'...\n",
              "9811     36         4   This is the best Star Trek movie in a long time.\n",
              "\n",
              "[7655 rows x 3 columns]"
            ]
          },
          "metadata": {
            "tags": []
          },
          "execution_count": 109
        }
      ]
    },
    {
      "cell_type": "code",
      "metadata": {
        "colab": {
          "base_uri": "https://localhost:8080/"
        },
        "id": "W6OVnR0FQpC_",
        "outputId": "6ef3b443-a802-4028-81a7-54415700d19a"
      },
      "source": [
        "df.duplicated(['Sentence'])"
      ],
      "execution_count": 110,
      "outputs": [
        {
          "output_type": "execute_result",
          "data": {
            "text/plain": [
              "0       False\n",
              "1       False\n",
              "2       False\n",
              "3       False\n",
              "4       False\n",
              "        ...  \n",
              "9804    False\n",
              "9806    False\n",
              "9807    False\n",
              "9810    False\n",
              "9811    False\n",
              "Length: 7655, dtype: bool"
            ]
          },
          "metadata": {
            "tags": []
          },
          "execution_count": 110
        }
      ]
    },
    {
      "cell_type": "code",
      "metadata": {
        "id": "l3qqeF_iw_8A"
      },
      "source": [
        "df.to_csv('train-ref22.csv', mode='w')"
      ],
      "execution_count": 111,
      "outputs": []
    },
    {
      "cell_type": "markdown",
      "metadata": {
        "id": "NYHUbLcBxAks"
      },
      "source": [
        "# data refining\n",
        "\n",
        "(space). (space), (space)! (space)? (space)n't (space)'에서 공백 일괄제거\n",
        "\n",
        "``(space), 즉 acute accent mark 2개 + space 를 \"(큰 따옴표 1개)로 변경\n",
        "\n",
        "`(space)를 '(작은 따옴표 1개)로 변경\n",
        "\n",
        "''(작은 따옴표 2개)를 \"(큰 따옴표 1개)로 변경\n",
        "\n",
        "-LRB-, -RRB- 를 각각 ( ) 괄호 부호로 변경\n",
        "\n",
        "괄호 안쪽 space 제거\n",
        "\n",
        "\\\\ 삭제\n",
        "\n",
        "\\#(space), $(space), (space)&(space) 공백 제거\n",
        "\n",
        "Mr.(space)의 공백 제거\n",
        "\n",
        "\n",
        "큰 따옴표 뒤에 스페이스가 없어진 문제 해결"
      ]
    },
    {
      "cell_type": "code",
      "metadata": {
        "colab": {
          "base_uri": "https://localhost:8080/",
          "height": 415
        },
        "id": "kN48n60ztU6_",
        "outputId": "11cddc81-5df0-4b47-99dc-936df5a260cd"
      },
      "source": [
        "import pandas as pd\n",
        "\n",
        "df = pd.read_csv('valid.csv')\n",
        "df"
      ],
      "execution_count": 102,
      "outputs": [
        {
          "output_type": "execute_result",
          "data": {
            "text/html": [
              "<div>\n",
              "<style scoped>\n",
              "    .dataframe tbody tr th:only-of-type {\n",
              "        vertical-align: middle;\n",
              "    }\n",
              "\n",
              "    .dataframe tbody tr th {\n",
              "        vertical-align: top;\n",
              "    }\n",
              "\n",
              "    .dataframe thead th {\n",
              "        text-align: right;\n",
              "    }\n",
              "</style>\n",
              "<table border=\"1\" class=\"dataframe\">\n",
              "  <thead>\n",
              "    <tr style=\"text-align: right;\">\n",
              "      <th></th>\n",
              "      <th>Id</th>\n",
              "      <th>Category</th>\n",
              "      <th>Sentence</th>\n",
              "    </tr>\n",
              "  </thead>\n",
              "  <tbody>\n",
              "    <tr>\n",
              "      <th>0</th>\n",
              "      <td>6883</td>\n",
              "      <td>1</td>\n",
              "      <td>A documentary to make the stones weep -- as sh...</td>\n",
              "    </tr>\n",
              "    <tr>\n",
              "      <th>1</th>\n",
              "      <td>6262</td>\n",
              "      <td>3</td>\n",
              "      <td>It 's pretty linear and only makeup-deep , but...</td>\n",
              "    </tr>\n",
              "    <tr>\n",
              "      <th>2</th>\n",
              "      <td>7926</td>\n",
              "      <td>1</td>\n",
              "      <td>The script is a tired one , with few moments o...</td>\n",
              "    </tr>\n",
              "    <tr>\n",
              "      <th>3</th>\n",
              "      <td>2733</td>\n",
              "      <td>0</td>\n",
              "      <td>This is surely one of the most frantic , virul...</td>\n",
              "    </tr>\n",
              "    <tr>\n",
              "      <th>4</th>\n",
              "      <td>8371</td>\n",
              "      <td>1</td>\n",
              "      <td>The scriptwriters are no less a menace to soci...</td>\n",
              "    </tr>\n",
              "    <tr>\n",
              "      <th>...</th>\n",
              "      <td>...</td>\n",
              "      <td>...</td>\n",
              "      <td>...</td>\n",
              "    </tr>\n",
              "    <tr>\n",
              "      <th>1727</th>\n",
              "      <td>10066</td>\n",
              "      <td>4</td>\n",
              "      <td>The most brilliant work in this genre since th...</td>\n",
              "    </tr>\n",
              "    <tr>\n",
              "      <th>1728</th>\n",
              "      <td>7057</td>\n",
              "      <td>3</td>\n",
              "      <td>Like Kissing Jessica Stein , Amy 's Orgasm has...</td>\n",
              "    </tr>\n",
              "    <tr>\n",
              "      <th>1729</th>\n",
              "      <td>7015</td>\n",
              "      <td>2</td>\n",
              "      <td>` Snow Dogs ' has both .</td>\n",
              "    </tr>\n",
              "    <tr>\n",
              "      <th>1730</th>\n",
              "      <td>8381</td>\n",
              "      <td>0</td>\n",
              "      <td>What an embarrassment .</td>\n",
              "    </tr>\n",
              "    <tr>\n",
              "      <th>1731</th>\n",
              "      <td>4844</td>\n",
              "      <td>2</td>\n",
              "      <td>Or for the year , for that matter .</td>\n",
              "    </tr>\n",
              "  </tbody>\n",
              "</table>\n",
              "<p>1732 rows × 3 columns</p>\n",
              "</div>"
            ],
            "text/plain": [
              "         Id  Category                                           Sentence\n",
              "0      6883         1  A documentary to make the stones weep -- as sh...\n",
              "1      6262         3  It 's pretty linear and only makeup-deep , but...\n",
              "2      7926         1  The script is a tired one , with few moments o...\n",
              "3      2733         0  This is surely one of the most frantic , virul...\n",
              "4      8371         1  The scriptwriters are no less a menace to soci...\n",
              "...     ...       ...                                                ...\n",
              "1727  10066         4  The most brilliant work in this genre since th...\n",
              "1728   7057         3  Like Kissing Jessica Stein , Amy 's Orgasm has...\n",
              "1729   7015         2                           ` Snow Dogs ' has both .\n",
              "1730   8381         0                            What an embarrassment .\n",
              "1731   4844         2                Or for the year , for that matter .\n",
              "\n",
              "[1732 rows x 3 columns]"
            ]
          },
          "metadata": {
            "tags": []
          },
          "execution_count": 102
        }
      ]
    },
    {
      "cell_type": "code",
      "metadata": {
        "id": "y08EQZ6RQqaH"
      },
      "source": [
        "df['Sentence'] = df['Sentence'].str.replace('\\s\\.', '.')\n",
        "df['Sentence'] = df['Sentence'].str.replace('\\s\\,', ',')\n",
        "df['Sentence'] = df['Sentence'].str.replace('\\s\\!', '!')\n",
        "df['Sentence'] = df['Sentence'].str.replace('\\s\\?', '?')\n",
        "df['Sentence'] = df['Sentence'].str.replace(\"\\sn't\", \"n't\")\n",
        "df['Sentence'] = df['Sentence'].str.replace('\\s\\'', \"'\")\n",
        "df['Sentence'] = df['Sentence'].str.replace(\"\\`\\`\\s\", '\"')\n",
        "df['Sentence'] = df['Sentence'].str.replace(\"\\'\\'\", '\"')\n",
        "df['Sentence'] = df['Sentence'].str.replace(\"\\-LRB\\-\", \"(\")\n",
        "df['Sentence'] = df['Sentence'].str.replace(\"\\-RRB\\-\", \")\")\n",
        "df['Sentence'] = df['Sentence'].str.replace(\"\\\\\", '')\n",
        "df['Sentence'] = df['Sentence'].str.replace('\\`\\s', \"'\")\n",
        "df['Sentence'] = df['Sentence'].str.replace('\\s\\)', \")\")\n",
        "df['Sentence'] = df['Sentence'].str.replace('\\(\\s', \"(\")\n",
        "df"
      ],
      "execution_count": 103,
      "outputs": []
    },
    {
      "cell_type": "code",
      "metadata": {
        "id": "yYH8YXK3A5rZ"
      },
      "source": [
        "df.to_csv('valid-ref12.csv', mode='w')"
      ],
      "execution_count": 105,
      "outputs": []
    },
    {
      "cell_type": "markdown",
      "metadata": {
        "id": "XQpHoQiNBBX0"
      },
      "source": [
        "# hyphen을 space로 변환, (dash는 그대로 존치)"
      ]
    },
    {
      "cell_type": "code",
      "metadata": {
        "colab": {
          "base_uri": "https://localhost:8080/",
          "height": 415
        },
        "id": "rdZPp8NuBTw1",
        "outputId": "922ca55c-b127-4454-98db-5f545d3922e9"
      },
      "source": [
        "import pandas as pd\n",
        "\n",
        "df = pd.read_csv('valid-ref22.csv')\n",
        "df"
      ],
      "execution_count": 127,
      "outputs": [
        {
          "output_type": "execute_result",
          "data": {
            "text/html": [
              "<div>\n",
              "<style scoped>\n",
              "    .dataframe tbody tr th:only-of-type {\n",
              "        vertical-align: middle;\n",
              "    }\n",
              "\n",
              "    .dataframe tbody tr th {\n",
              "        vertical-align: top;\n",
              "    }\n",
              "\n",
              "    .dataframe thead th {\n",
              "        text-align: right;\n",
              "    }\n",
              "</style>\n",
              "<table border=\"1\" class=\"dataframe\">\n",
              "  <thead>\n",
              "    <tr style=\"text-align: right;\">\n",
              "      <th></th>\n",
              "      <th>Unnamed: 0</th>\n",
              "      <th>Id</th>\n",
              "      <th>Category</th>\n",
              "      <th>Sentence</th>\n",
              "    </tr>\n",
              "  </thead>\n",
              "  <tbody>\n",
              "    <tr>\n",
              "      <th>0</th>\n",
              "      <td>0</td>\n",
              "      <td>6883</td>\n",
              "      <td>1</td>\n",
              "      <td>A documentary to make the stones weep -- as sh...</td>\n",
              "    </tr>\n",
              "    <tr>\n",
              "      <th>1</th>\n",
              "      <td>1</td>\n",
              "      <td>6262</td>\n",
              "      <td>3</td>\n",
              "      <td>It's pretty linear and only makeup-deep, but B...</td>\n",
              "    </tr>\n",
              "    <tr>\n",
              "      <th>2</th>\n",
              "      <td>2</td>\n",
              "      <td>7926</td>\n",
              "      <td>1</td>\n",
              "      <td>The script is a tired one, with few moments of...</td>\n",
              "    </tr>\n",
              "    <tr>\n",
              "      <th>3</th>\n",
              "      <td>3</td>\n",
              "      <td>2733</td>\n",
              "      <td>0</td>\n",
              "      <td>This is surely one of the most frantic, virule...</td>\n",
              "    </tr>\n",
              "    <tr>\n",
              "      <th>4</th>\n",
              "      <td>4</td>\n",
              "      <td>8371</td>\n",
              "      <td>1</td>\n",
              "      <td>The scriptwriters are no less a menace to soci...</td>\n",
              "    </tr>\n",
              "    <tr>\n",
              "      <th>...</th>\n",
              "      <td>...</td>\n",
              "      <td>...</td>\n",
              "      <td>...</td>\n",
              "      <td>...</td>\n",
              "    </tr>\n",
              "    <tr>\n",
              "      <th>1661</th>\n",
              "      <td>1726</td>\n",
              "      <td>7203</td>\n",
              "      <td>3</td>\n",
              "      <td>Downbeat, period-perfect biopic hammers home a...</td>\n",
              "    </tr>\n",
              "    <tr>\n",
              "      <th>1662</th>\n",
              "      <td>1727</td>\n",
              "      <td>10066</td>\n",
              "      <td>4</td>\n",
              "      <td>The most brilliant work in this genre since th...</td>\n",
              "    </tr>\n",
              "    <tr>\n",
              "      <th>1663</th>\n",
              "      <td>1728</td>\n",
              "      <td>7057</td>\n",
              "      <td>3</td>\n",
              "      <td>Like Kissing Jessica Stein, Amy's Orgasm has a...</td>\n",
              "    </tr>\n",
              "    <tr>\n",
              "      <th>1664</th>\n",
              "      <td>1729</td>\n",
              "      <td>7015</td>\n",
              "      <td>2</td>\n",
              "      <td>'Snow Dogs' has both.</td>\n",
              "    </tr>\n",
              "    <tr>\n",
              "      <th>1665</th>\n",
              "      <td>1731</td>\n",
              "      <td>4844</td>\n",
              "      <td>2</td>\n",
              "      <td>Or for the year, for that matter.</td>\n",
              "    </tr>\n",
              "  </tbody>\n",
              "</table>\n",
              "<p>1666 rows × 4 columns</p>\n",
              "</div>"
            ],
            "text/plain": [
              "      Unnamed: 0  ...                                           Sentence\n",
              "0              0  ...  A documentary to make the stones weep -- as sh...\n",
              "1              1  ...  It's pretty linear and only makeup-deep, but B...\n",
              "2              2  ...  The script is a tired one, with few moments of...\n",
              "3              3  ...  This is surely one of the most frantic, virule...\n",
              "4              4  ...  The scriptwriters are no less a menace to soci...\n",
              "...          ...  ...                                                ...\n",
              "1661        1726  ...  Downbeat, period-perfect biopic hammers home a...\n",
              "1662        1727  ...  The most brilliant work in this genre since th...\n",
              "1663        1728  ...  Like Kissing Jessica Stein, Amy's Orgasm has a...\n",
              "1664        1729  ...                              'Snow Dogs' has both.\n",
              "1665        1731  ...                  Or for the year, for that matter.\n",
              "\n",
              "[1666 rows x 4 columns]"
            ]
          },
          "metadata": {
            "tags": []
          },
          "execution_count": 127
        }
      ]
    },
    {
      "cell_type": "code",
      "metadata": {
        "colab": {
          "base_uri": "https://localhost:8080/",
          "height": 415
        },
        "id": "qsb1c-VzBT_R",
        "outputId": "95da153a-8ffb-44e8-bad2-596e51bb138b"
      },
      "source": [
        "df['Sentence'] = df['Sentence'].str.replace('\\-\\-', \"hyphens\")\n",
        "df['Sentence'] = df['Sentence'].str.replace('\\-', \" \")\n",
        "df['Sentence'] = df['Sentence'].str.replace('hyphens', \"--\")\n",
        "df"
      ],
      "execution_count": 128,
      "outputs": [
        {
          "output_type": "execute_result",
          "data": {
            "text/html": [
              "<div>\n",
              "<style scoped>\n",
              "    .dataframe tbody tr th:only-of-type {\n",
              "        vertical-align: middle;\n",
              "    }\n",
              "\n",
              "    .dataframe tbody tr th {\n",
              "        vertical-align: top;\n",
              "    }\n",
              "\n",
              "    .dataframe thead th {\n",
              "        text-align: right;\n",
              "    }\n",
              "</style>\n",
              "<table border=\"1\" class=\"dataframe\">\n",
              "  <thead>\n",
              "    <tr style=\"text-align: right;\">\n",
              "      <th></th>\n",
              "      <th>Unnamed: 0</th>\n",
              "      <th>Id</th>\n",
              "      <th>Category</th>\n",
              "      <th>Sentence</th>\n",
              "    </tr>\n",
              "  </thead>\n",
              "  <tbody>\n",
              "    <tr>\n",
              "      <th>0</th>\n",
              "      <td>0</td>\n",
              "      <td>6883</td>\n",
              "      <td>1</td>\n",
              "      <td>A documentary to make the stones weep -- as sh...</td>\n",
              "    </tr>\n",
              "    <tr>\n",
              "      <th>1</th>\n",
              "      <td>1</td>\n",
              "      <td>6262</td>\n",
              "      <td>3</td>\n",
              "      <td>It's pretty linear and only makeup deep, but B...</td>\n",
              "    </tr>\n",
              "    <tr>\n",
              "      <th>2</th>\n",
              "      <td>2</td>\n",
              "      <td>7926</td>\n",
              "      <td>1</td>\n",
              "      <td>The script is a tired one, with few moments of...</td>\n",
              "    </tr>\n",
              "    <tr>\n",
              "      <th>3</th>\n",
              "      <td>3</td>\n",
              "      <td>2733</td>\n",
              "      <td>0</td>\n",
              "      <td>This is surely one of the most frantic, virule...</td>\n",
              "    </tr>\n",
              "    <tr>\n",
              "      <th>4</th>\n",
              "      <td>4</td>\n",
              "      <td>8371</td>\n",
              "      <td>1</td>\n",
              "      <td>The scriptwriters are no less a menace to soci...</td>\n",
              "    </tr>\n",
              "    <tr>\n",
              "      <th>...</th>\n",
              "      <td>...</td>\n",
              "      <td>...</td>\n",
              "      <td>...</td>\n",
              "      <td>...</td>\n",
              "    </tr>\n",
              "    <tr>\n",
              "      <th>1661</th>\n",
              "      <td>1726</td>\n",
              "      <td>7203</td>\n",
              "      <td>3</td>\n",
              "      <td>Downbeat, period perfect biopic hammers home a...</td>\n",
              "    </tr>\n",
              "    <tr>\n",
              "      <th>1662</th>\n",
              "      <td>1727</td>\n",
              "      <td>10066</td>\n",
              "      <td>4</td>\n",
              "      <td>The most brilliant work in this genre since th...</td>\n",
              "    </tr>\n",
              "    <tr>\n",
              "      <th>1663</th>\n",
              "      <td>1728</td>\n",
              "      <td>7057</td>\n",
              "      <td>3</td>\n",
              "      <td>Like Kissing Jessica Stein, Amy's Orgasm has a...</td>\n",
              "    </tr>\n",
              "    <tr>\n",
              "      <th>1664</th>\n",
              "      <td>1729</td>\n",
              "      <td>7015</td>\n",
              "      <td>2</td>\n",
              "      <td>'Snow Dogs' has both.</td>\n",
              "    </tr>\n",
              "    <tr>\n",
              "      <th>1665</th>\n",
              "      <td>1731</td>\n",
              "      <td>4844</td>\n",
              "      <td>2</td>\n",
              "      <td>Or for the year, for that matter.</td>\n",
              "    </tr>\n",
              "  </tbody>\n",
              "</table>\n",
              "<p>1666 rows × 4 columns</p>\n",
              "</div>"
            ],
            "text/plain": [
              "      Unnamed: 0  ...                                           Sentence\n",
              "0              0  ...  A documentary to make the stones weep -- as sh...\n",
              "1              1  ...  It's pretty linear and only makeup deep, but B...\n",
              "2              2  ...  The script is a tired one, with few moments of...\n",
              "3              3  ...  This is surely one of the most frantic, virule...\n",
              "4              4  ...  The scriptwriters are no less a menace to soci...\n",
              "...          ...  ...                                                ...\n",
              "1661        1726  ...  Downbeat, period perfect biopic hammers home a...\n",
              "1662        1727  ...  The most brilliant work in this genre since th...\n",
              "1663        1728  ...  Like Kissing Jessica Stein, Amy's Orgasm has a...\n",
              "1664        1729  ...                              'Snow Dogs' has both.\n",
              "1665        1731  ...                  Or for the year, for that matter.\n",
              "\n",
              "[1666 rows x 4 columns]"
            ]
          },
          "metadata": {
            "tags": []
          },
          "execution_count": 128
        }
      ]
    },
    {
      "cell_type": "code",
      "metadata": {
        "id": "oycc6pkhBwyN"
      },
      "source": [
        "df.to_csv('valid-ref32.csv', mode='w')"
      ],
      "execution_count": 129,
      "outputs": []
    },
    {
      "cell_type": "code",
      "metadata": {
        "id": "_iTdjd5vB4B1"
      },
      "source": [
        ""
      ],
      "execution_count": null,
      "outputs": []
    }
  ]
}